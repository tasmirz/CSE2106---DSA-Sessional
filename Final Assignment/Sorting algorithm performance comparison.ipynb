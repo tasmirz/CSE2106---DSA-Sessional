{
 "cells": [
  {
   "cell_type": "markdown",
   "metadata": {},
   "source": [
    "Author : Tasmir Hossain Zihad (2107071)\n",
    "\n",
    "# Sorting Algorithm Performace Analysis"
   ]
  },
  {
   "cell_type": "markdown",
   "metadata": {},
   "source": [
    "## Sorting Algorithms\n",
    "\n",
    "> The attached files are  contain extensive comments, the snippets added here do not"
   ]
  },
  {
   "cell_type": "markdown",
   "metadata": {},
   "source": [
    "### Bubble Sort\n",
    "> Given an array, the largest element is moved to the end.\n",
    "* The inner loop swap two adjacent elements, if left one is  larger than right one. thus moving the largest one to right.\n",
    "* The outer loop skips the right sorted side.\n",
    "* If an array is already sorted it avoids resorting"
   ]
  },
  {
   "cell_type": "code",
   "execution_count": null,
   "metadata": {
    "vscode": {
     "languageId": "cpp"
    }
   },
   "outputs": [],
   "source": [
    "template <class T>\n",
    "void bubble_sort(vector<T>& array) {\n",
    "  for (int i = array.size(); i >= 0; i--) {\n",
    "    bool swapped = false; // sorted array check\n",
    "    for (int j = 1; j < i; j++)\n",
    "      if (array[j - 1] > array[j]) {\n",
    "        swap(array[j - 1], array[j]);\n",
    "        swapped = true;\n",
    "      }\n",
    "    if (!swapped) break;\n",
    "  }\n",
    "}"
   ]
  },
  {
   "cell_type": "markdown",
   "metadata": {},
   "source": [
    "#### Complexity\n",
    "| Case    | Complexity | Swaps | Reason                                                                            |\n",
    "|---------|--------|-------|--|\n",
    "| Best    | $ O(n) $     | $ O(1) $| In case of sorted array, the swapped flag remains false, so the outer loop breaks |\n",
    "| Average | $ O(n^2) $   |$ O(n^2) $   | Two inner loops                                                                   |\n",
    "| Worst   | $ O(n^2) $    |$ O(n^2) $   | Reversed array, two inner loops                                                   |\n"
   ]
  },
  {
   "cell_type": "markdown",
   "metadata": {},
   "source": [
    "### Insertion Sort\n",
    "> Given an array, constructs the result by moving element to a already sorted subarray\n",
    "* The first element is considered sorted.\n",
    "* A loop is then run for later elements, containing another loop which finds the proper place for this next element. During iteration of the inner loop the previous element is moved to next till finding proper position for current element, then the saved current element is placed in its proper position\n",
    "* This algorithm runs O(n) on sorted arrays as the inner loop never runs if the previous element is smaller"
   ]
  },
  {
   "cell_type": "code",
   "execution_count": null,
   "metadata": {
    "vscode": {
     "languageId": "cpp"
    }
   },
   "outputs": [],
   "source": [
    "template <class T>\n",
    "void insertion_sort(vector<T>& array) { \n",
    "  for (int i = 1; i < array.size(); i++) {\n",
    "    T temp = array[i]; // saving in a temporary variable as the \n",
    "    //previous one would be shifted it current location\n",
    "    for (int j = i - 1; j >= 0; j--) {\n",
    "      if (temp > array[j]) {\n",
    "        array[j + 1] = temp;\n",
    "        break;\n",
    "      }\n",
    "      array[j + 1] = array[j];\n",
    "    }\n",
    "  }\n",
    "}"
   ]
  },
  {
   "cell_type": "markdown",
   "metadata": {},
   "source": [
    "#### Complexity\n",
    "| Case    | Complexity |Swaps| Reason                                          |\n",
    "|---------|------------|-------------------------------------------------|---|\n",
    "| Best    | $O(n)$     |$O(1)$| The inner loop does not run , if data is sorted |\n",
    "| Average | $O(n^2)$   |$O(n^2)$   | Two inner loops                                 |\n",
    "| Worst   | $O(n^2)$   |$O(n^2)$   | Reversed array, two inner loops                 |\n"
   ]
  },
  {
   "cell_type": "markdown",
   "metadata": {},
   "source": [
    "### Selection Sort\n",
    "> Given an array, per iteration the smallest form a subsection is acquired and placed at the start of the subsection\n",
    "* This algorithm is not adaptive\n",
    "* Number of swapping required is smaller in this algorithm"
   ]
  },
  {
   "cell_type": "code",
   "execution_count": null,
   "metadata": {
    "vscode": {
     "languageId": "cpp"
    }
   },
   "outputs": [],
   "source": [
    "template <class T>\n",
    "void selection_sort(vector<T>& array) {\n",
    "  for (int i = 0; i < array.size(); i++) {\n",
    "    T minimum = array[i];\n",
    "    int min_location = i;\n",
    "    for (int j = i; j < array.size(); j++) {\n",
    "      if (minimum > array[j]) minimum = array[j], min_location = j;\n",
    "    }\n",
    "    swap(array[i], array[min_location]);\n",
    "  }\n",
    "}"
   ]
  },
  {
   "cell_type": "markdown",
   "metadata": {},
   "source": [
    "#### Complexity\n",
    "\n",
    "| Case    | Complexity | Swaps    | Reason                          |\n",
    "|---------|------------|----------|---------------------------------|\n",
    "| Best    | $O(n^2)$   | $O(n^2)$ | Sorted array, two inner loops   |\n",
    "| Average | $O(n^2)$   | $O(n^2)$ | Two inner loops                 |\n",
    "| Worst   | $O(n^2)$   | $O(n^2)$ | Reversed array, two inner loops |"
   ]
  },
  {
   "cell_type": "markdown",
   "metadata": {},
   "source": [
    "### Quick Sort \n",
    "\n",
    "* A pivot is selected usually the last element.\n",
    "* Then the array is transformed as such that, the middle element(or elements, having the same value), reaches the correct position and elements lower than pivot stays at left and larger are placed at right\n",
    "* Then for the left and right sides, quicksort is recursively called(in the below example a stack is maintained to perform recursion)"
   ]
  },
  {
   "cell_type": "code",
   "execution_count": null,
   "metadata": {
    "vscode": {
     "languageId": "cpp"
    }
   },
   "outputs": [],
   "source": [
    "#include <bits/stdc++.h>\n",
    "using namespace std;\n",
    "\n",
    "template <class T>\n",
    "void quick_sort(vector<T>& array) {\n",
    "  stack<pair<int, int>> st;\n",
    "  st.push({0, array.size() - 1});\n",
    "  while (!st.empty()) {\n",
    "    pair<int, int> p = st.top();\n",
    "    st.pop();\n",
    "    if (p.first >= p.second) continue;\n",
    "    if (p.second - p.first == 1) {\n",
    "      if (array[p.first] > array[p.second])\n",
    "        swap(array[p.first], array[p.second]);\n",
    "      continue;\n",
    "    }\n",
    "    T pivot = array[p.second];\n",
    "    int last_smallest = p.first;\n",
    "    int last_largest = p.second;\n",
    "    for (int i = p.first; i <= last_largest;) { // 3 way partitioning , Lumoto\n",
    "      if (array[i] < pivot)\n",
    "        swap(array[i], array[last_smallest++]), i++;\n",
    "      else if (array[i] > pivot)\n",
    "        swap(array[i], array[last_largest--]);\n",
    "      else\n",
    "        i++;\n",
    "    }\n",
    "    pivot = last_smallest - 1;\n",
    "    st.push({last_largest, p.second});\n",
    "    st.push({p.first, last_smallest - 1});\n",
    "  }\n",
    "}"
   ]
  },
  {
   "cell_type": "markdown",
   "metadata": {},
   "source": [
    "#### Complexity\n",
    "\n",
    "| Case    | Complexity    | Swaps         | Reason                                         |\n",
    "|---------|---------------|---------------|------------------------------------------------|\n",
    "| Best    | $O(n log(n))$ | $O(1)$        | Sorted array, no change of position for pivots |\n",
    "| Average | $O(n log(n))$ | $O(n log(n))$ | Two inner loops                                |\n",
    "| Worst   | $O(n^2)$      | $O(n^2)$      | Reversed array, n level recursion, ~n swaps per case               |"
   ]
  },
  {
   "cell_type": "markdown",
   "metadata": {},
   "source": [
    "### Merge Sort\n",
    "* Generally ,the array is split is two halves until each subarray has only 1 element\n",
    "* After the split the subarray of 1 element is considered sorted, and two broken subarrays are joined together in a special process called merging\n",
    "* Merging - a process of combining two sorted arrays in linear time, in each iteration the smaller head element from one of the array is taken and pushed to the result array. This operation requires extra space (for running in linear time with easier implementation).\n",
    "\n",
    "However, in this implementation,\n",
    "* The array was sorted in bottom up manner , the merging was done by taking $2^i$ elements each time where\n",
    "   $$ i \\in [2, \\lceil \\log(size) \\rceil ] $$\n"
   ]
  },
  {
   "cell_type": "code",
   "execution_count": null,
   "metadata": {
    "vscode": {
     "languageId": "cpp"
    }
   },
   "outputs": [],
   "source": [
    "template <class T>\n",
    "void merge_sort(vector<T>& array) {\n",
    "  int iterations = pow(2, ceil(log2(array.size())));\n",
    "  for (int i = 2; i <= iterations; i *= 2) {\n",
    "    for (int j = 0; j < array.size(); j += i) {\n",
    "      int l = j;\n",
    "      int r = j + i / 2;\n",
    "      vector<T> vv;\n",
    "      while (l < j + i / 2 && r < j + i && l < array.size() &&\n",
    "             r < array.size()) {\n",
    "        if (array[l] > array[r])\n",
    "          vv.push_back(array[r++]);\n",
    "        else\n",
    "          vv.push_back(array[l++]);\n",
    "      }\n",
    "      while (l < j + i / 2 && l < array.size()) vv.push_back(array[l++]);\n",
    "      while (r < j + i && r < array.size()) vv.push_back(array[r++]);\n",
    "      for (int k = j, p = 0; k < j + i && k < array.size(); k++, p++)\n",
    "        array[k] = vv[p];\n",
    "    }\n",
    "  }\n",
    "}"
   ]
  },
  {
   "cell_type": "markdown",
   "metadata": {},
   "source": [
    "#### Complexity\n",
    "| Case    | Complexity    | Swaps         | Reason                                                                                          |\n",
    "|---------|---------------|---------------|-------------------------------------------------------------------------------------------------|\n",
    "| Best    | $ O(n log(n)) $ | $ O(n log(n)) $ | n swaps/ placements in the last iteration, total iteration $$ \\lceil log (size) \\rceil $$ times |\n",
    "| Average | $ O(n log(n)) $ | $ O(n log(n)) $ | n swaps/ placements in the last iteration, total iteration $$ \\lceil log (size) \\rceil $$ times |\n",
    "| Worst   | $ O(nlog(n)) $  | $O(n log(n))$ | n swaps/ placements in the last iteration, total iteration $$ \\lceil log (size) \\rceil $$ times |"
   ]
  },
  {
   "cell_type": "markdown",
   "metadata": {
    "vscode": {
     "languageId": "cpp"
    }
   },
   "source": [
    "### Heap sort\n",
    "\n",
    "* The array is converted to a heap structure.\n",
    "* Heap stucture is an array representation of a complete binary tree, where for $i$th node: $ 2 * i +1 $ is its left and $ 2 * i +2 $ is its right child. The parent and child nodes are related by by order.\n",
    "* This structure is achieved from `heapify` and `Heapify` function, where `heapify` makes a heap from a leaf element, and `Heapify` constructs from a parent element. \n",
    "* In a max heap, the heap order is - parent must be larger than its children. By extracting the top element and moving it to the end of the array repeatedly, the array can be sorted in ascending order"
   ]
  },
  {
   "cell_type": "code",
   "execution_count": null,
   "metadata": {
    "vscode": {
     "languageId": "cpp"
    }
   },
   "outputs": [],
   "source": [
    "template <class T>\n",
    "void heapify(vector<T>& array, int n) {  // on insertion or from bottom to top\n",
    "\n",
    "  if (!n) return;\n",
    "  if (array[n] > array[n / 2]) swap(array[n], array[n / 2]);\n",
    "  heapify(array, n / 2);\n",
    "}\n",
    "template <class T>\n",
    "void Heapify(vector<T>& array, int N, int n) {  // from top to bottom\n",
    "  int i = 2 * n + 1;\n",
    "  int j = 2 * n + 2;\n",
    "  int largest = n;\n",
    "  if (i < N && array[largest] < array[i]) largest = i;\n",
    "  if (j < N && array[largest] < array[j]) largest = j;\n",
    "  if (largest != n) {\n",
    "    swap(array[largest], array[n]);\n",
    "    Heapify(array, N, largest);\n",
    "  }\n",
    "}\n",
    "\n",
    "template <class T>\n",
    "void heap_sort(vector<T>& array) {\n",
    "  for (int i = array.size() / 2; i < array.size(); i++) {\n",
    "    heapify(array, i);\n",
    "  }\n",
    "  for (int i = array.size() - 1; i >= 0; i--) {\n",
    "    swap(array[0], array[i]);\n",
    "    Heapify(array, i, 0);\n",
    "  }\n",
    "}"
   ]
  },
  {
   "cell_type": "markdown",
   "metadata": {},
   "source": [
    "#### Complexity\n",
    "| Case    | Complexity    |\n",
    "|---------|---------------|\n",
    "| Best    | $O(n log(n))$ |\n",
    "| Average | $O(n log(n))$ |\n",
    "| Worst   | $O(nlog(n))$  |\n"
   ]
  },
  {
   "cell_type": "markdown",
   "metadata": {},
   "source": [
    "### Counting sort\n",
    "\n",
    "* It's a non comparison sorting algorithm that works for only integers\n",
    "* It uses an auxiliary array of size , maximum element of that previous array\n",
    "* The counts of occurrences of an element in the main array is stored in the auxiliary array, then prefix sum is applied to the auxiliary array , this step makes the sorting stable\n",
    "* Then the resulting array is constructed from the prefix sum array by iterating the main array in reverse order (the same elements are placed at last, ensuring stability)."
   ]
  },
  {
   "cell_type": "code",
   "execution_count": null,
   "metadata": {
    "vscode": {
     "languageId": "cpp"
    }
   },
   "outputs": [],
   "source": [
    "template <class T>\n",
    "void count_sort(vector<T>& array) {\n",
    "  int maximum = -1;\n",
    "  for (auto i : array) maximum = max(maximum, i);\n",
    "  vector<T> v(maximum + 1, 0), result(array.size());\n",
    "  for (auto i : array) v[i]++;\n",
    "  for (int i = 1; i < v.size(); i++) v[i] = v[i - 1] + v[i];\n",
    "  for (int i = array.size() - 1; i >= 0; i--) result[--v[array[i]]] = array[i];\n",
    "  array = result;\n",
    "}"
   ]
  },
  {
   "cell_type": "markdown",
   "metadata": {},
   "source": [
    "#### Complexity : \n",
    "$ O(n+k) $ \n",
    "\n",
    "k = Maximum element"
   ]
  },
  {
   "cell_type": "markdown",
   "metadata": {},
   "source": [
    "### Radix Sort\n",
    "* It is a improvised version of counting sort :  saves space and becomes faster on non-uniform cases\n",
    "* Instead of the whole number counting sort is applied to digits iteratively from LSB to MSB\n",
    "* The stable nature of counting sort, maintains LSB's order : making sorting with radix sort possible"
   ]
  },
  {
   "cell_type": "code",
   "execution_count": null,
   "metadata": {
    "vscode": {
     "languageId": "cpp"
    }
   },
   "outputs": [],
   "source": [
    "template <class T>\n",
    "void radix_sort(vector<T>& array) {\n",
    "  int maximum = -1;\n",
    "  for (auto i : array) maximum = max((int)ceil(log10(i)), maximum);\n",
    "  /*\n",
    "   * exploits the fact that this approach of counting sort is stable\n",
    "   * So it always remains previous lower digit order\n",
    "   * thus the whole array gets sorted\n",
    "   */\n",
    "  for (int j = 0; j < maximum; j++) {\n",
    "    vector<T> v(10, 0), result(array.size());\n",
    "    for (auto i : array) v[(i / (int)pow(10, j)) % 10]++;\n",
    "    for (int i = 1; i < v.size(); i++) v[i] = v[i - 1] + v[i];\n",
    "    for (int i = array.size() - 1; i >= 0; i--)\n",
    "      result[--v[(array[i] / (int)pow(10, j)) % 10]] = array[i];\n",
    "    // without taking from reverse each time order will be changed and stability\n",
    "    // would be lost scanning from end ensures last one is placed in the last\n",
    "    // space, as count decreases gradually\n",
    "    array = result;\n",
    "  }\n",
    "}"
   ]
  },
  {
   "cell_type": "markdown",
   "metadata": {},
   "source": [
    "#### Complexity : \n",
    "$ O(d*n)) $ \n",
    "\n",
    "$$ d = \\lceil\\log_{10}(maximum)\\rceil $$\n",
    "\n"
   ]
  },
  {
   "cell_type": "markdown",
   "metadata": {},
   "source": [
    "## Theoretical comparison\n",
    "|Property|Bubble Sort|Insertion Sort|Selection Sort|Heap Sort|Merge Sort|Quick Sort|Counting Sort|Radix Sort|\n",
    "|-|-|-|-|-|-|-|-|-|\n",
    "|Best Case Complexity| O(n) (already sorted)| O(n) (already sorted)| O(n^2)|O (n log n)| O(n log n)| O(n log n)| O(n + k) (k is small)| O(dk) (k is small)|\n",
    "|Average Case Complexity| O(n^2)| O(n^2)| O(n^2)| O(n log n)| O(n log n)| O(n log n)| O(n + k) (k ~=n)| O(dn) (k is small)|\n",
    "|Worst Case Complexity| O(n^2)| O(n^2)| O(n^2)| O(n log n)| O(n log n)| O(n^2) (worst case, reverse)| O(n + k) (k is large)| O(dn) d is large|\n",
    "|Recursion|No|No|No|Yes|Yes /No|Yes (pivot)|No|No|\n",
    "|Memory Usage| O(1)| O(1)| O(1)| O(1)| O(n) (merging)| O(log n) (stack)| O(n + k) (uses extra space for counting)| O(n + k) (uses extra space for counting)|\n",
    "|Adaptability|Partial|Partial|No|No|No|No|No|No|\n",
    "|Stability|Yes|Yes|No|No|Yes|No|Yes|Yes|\n",
    "|Online/Offline|Offline|Offline|Offline|Offline|Offline|Offline|Online|Online|\n",
    "|Serial/Parallel|Serial|Serial|Serial|Serial|Can be parallelized|Can be parallelized|Serial|Serial|\n",
    "|In Place|Yes|Yes|Yes|Yes|Can be|Yes|No|No|\n"
   ]
  },
  {
   "cell_type": "markdown",
   "metadata": {},
   "source": [
    "## Empirical Analysis\n",
    "### Data Tables\n",
    "\n",
    "|Number of Elements|Maximum|Algorithm|CPU Clocks taken|\n",
    "|-|-|-|-|\n",
    "|1000|10000|Bubble Sort|4035976|\n",
    "|1000|10000|Count Sort|82908|\n",
    "|1000|10000|Heap Sort|183244|\n",
    "|1000|10000|Insertion Sort|893136|\n",
    "|1000|10000|Merge Sort|416021|\n",
    "|1000|10000|Quick Sort|187177|\n",
    "|1000|10000|Radix Sort|208098|\n",
    "|1000|10000|Selection Sort|1189657|\n",
    "|1000|100000|Bubble Sort|3831858|\n",
    "|1000|100000|Count Sort|604092|\n",
    "|1000|100000|Heap Sort|164445|\n",
    "|1000|100000|Insertion Sort|898520|\n",
    "|1000|100000|Merge Sort|356513|\n",
    "|1000|100000|Quick Sort|174396|\n",
    "|1000|100000|Radix Sort|229309|\n",
    "|1000|100000|Selection Sort|1181087|\n",
    "|10000|10000|Bubble Sort|492690150|\n",
    "|10000|10000|Count Sort|209805|\n",
    "|10000|10000|Heap Sort|2983409|\n",
    "|10000|10000|Insertion Sort|112104109|\n",
    "|10000|10000|Merge Sort|4193132|\n",
    "|10000|10000|Quick Sort|2281919|\n",
    "|10000|10000|Radix Sort|1805604|\n",
    "|10000|10000|Selection Sort|123050272|\n",
    "|10000|100000|Bubble Sort|422810013|\n",
    "|10000|100000|Count Sort|847383|\n",
    "|10000|100000|Heap Sort|2560357|\n",
    "|10000|100000|Insertion Sort|101990521|\n",
    "|10000|100000|Merge Sort|4625901|\n",
    "|10000|100000|Quick Sort|2852161|\n",
    "|10000|100000|Radix Sort|2574060|\n",
    "|10000|100000|Selection Sort|123707568|\n",
    "|100000|10000|Count Sort|2257367|\n",
    "|100000|10000|Heap Sort|36577408|\n",
    "|100000|10000|Merge Sort|51703885|\n",
    "|100000|10000|Quick Sort|20229551|\n",
    "|100000|10000|Radix Sort|19757543|\n",
    "|100000|100000|Count Sort|2545094|\n",
    "|100000|100000|Heap Sort|37654346|\n",
    "|100000|100000|Merge Sort|50033447|\n",
    "|100000|100000|Quick Sort|36635401|\n",
    "|100000|100000|Radix Sort|26099629|\n",
    "|1000000|2147483647|Heap Sort|423495886|\n",
    "|1000000|2147483647|Merge Sort|578784423|\n",
    "|1000000|2147483647|Quick Sort|347657708|\n",
    "|1000000|2147483647|Radix Sort|534466236|\n",
    "|10000000|2147483647|Heap Sort|5712155289|\n",
    "|10000000|2147483647|Merge Sort|6730631927|\n",
    "|10000000|2147483647|Quick Sort|4138637182|\n",
    "|10000000|2147483647|Radix Sort|4840681680|\n"
   ]
  },
  {
   "cell_type": "markdown",
   "metadata": {
    "vscode": {
     "languageId": "cpp"
    }
   },
   "source": [
    "### Plots\n",
    "\n",
    "> vertical line -  No. of clocks, horizontal line -  Number of data\n",
    "> the lower the better\n",
    "\n",
    "#### Range [0,10000]\n",
    "\n",
    "![Figure 1](./10k.png)\n",
    "\n",
    "#### Range [0,100000]\n",
    "\n",
    "![Figure 1](./100k.png)\n",
    "\n",
    "#### Range [0,INT_MAX]\n",
    "\n",
    "![Figure 1](./INT_MAX.png)\n"
   ]
  },
  {
   "cell_type": "markdown",
   "metadata": {
    "vscode": {
     "languageId": "cpp"
    }
   },
   "source": [
    "## Discussion\n",
    "\n",
    "An interesting observation in the plot, *Merge sort* performed worse than all other $O(n \\log_2(n))$ sorting algorithm. More surprisingly, *Quick sort* performed the best. As the provided data were uniform and random, for each algorithm ran in it's average case complexity. For Merge sort merging and copying are costly and is constant as merge sort is not adaptive. For quick sort, levels can vary but the operations done in per level are not time consuming. For *Heap sort* the preprocessing takes $O(n\\log_2(n)))$ time and extraction of all elements takes $O(n\\log_2(n))$ time, and heapification is recursive\n",
    "\n",
    "Among the second order nested loop algorithms, *Insertion sort* and *Selection sort* performed similar, the slight advantage that insertion sort has over selection may come due to the fact - for any sorted portions, insertion sort doesn't need to do any operations.In average cases, the number of comparisons needed is lower in insertion sort. In case of Selection sort it performs way better than *Bubble sort* as number of swapping is constant $O(n)$.\n",
    "\n",
    "*Counting sort* performed the best in it's applicable data range, however outside it's data range and it's supported data type - it cannot perform. It's improvised version *Radix Sort* performed better for smaller data range however as the data range became larger $ d > log (n) $ so it fell behind quick sort.\n",
    "\n",
    "However The upper section is only a comparison for speed, for real world problems constraints may , and sorting algorithm should be chosen considering it's all properties"
   ]
  }
 ],
 "metadata": {
  "kernelspec": {
   "display_name": "C++17 (xeus)",
   "language": "C++17",
   "name": "xcpp17"
  },
  "language_info": {
   "codemirror_mode": "text/x-c++src",
   "file_extension": ".cpp",
   "mimetype": "text/x-c++src",
   "name": "C++17",
   "version": "17"
  }
 },
 "nbformat": 4,
 "nbformat_minor": 4
}
